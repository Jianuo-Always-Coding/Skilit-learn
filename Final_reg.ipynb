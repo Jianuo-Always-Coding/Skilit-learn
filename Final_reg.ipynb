{
 "cells": [
  {
   "cell_type": "code",
   "execution_count": 100,
   "metadata": {},
   "outputs": [],
   "source": [
    "# Import manymany statements\n",
    "import numpy as np\n",
    "import pandas as pd\n",
    "import seaborn as sns\n",
    "import matplotlib.pyplot as plt\n",
    "from sklearn import preprocessing, svm\n",
    "from sklearn.model_selection import train_test_split\n",
    "from sklearn.linear_model import LinearRegression\n",
    "from sklearn.linear_model import LogisticRegression\n",
    "import warnings\n",
    "warnings.filterwarnings(\"ignore\")"
   ]
  },
  {
   "cell_type": "code",
   "execution_count": 101,
   "metadata": {},
   "outputs": [],
   "source": [
    "# Import Data\n",
    "\n",
    "df = pd.read_csv('/Users/weizhengliang/Desktop/datavis_hw/final/data.csv', encoding='utf-8-sig')"
   ]
  },
  {
   "cell_type": "code",
   "execution_count": 102,
   "metadata": {},
   "outputs": [
    {
     "data": {
      "text/html": [
       "<div>\n",
       "<style scoped>\n",
       "    .dataframe tbody tr th:only-of-type {\n",
       "        vertical-align: middle;\n",
       "    }\n",
       "\n",
       "    .dataframe tbody tr th {\n",
       "        vertical-align: top;\n",
       "    }\n",
       "\n",
       "    .dataframe thead th {\n",
       "        text-align: right;\n",
       "    }\n",
       "</style>\n",
       "<table border=\"1\" class=\"dataframe\">\n",
       "  <thead>\n",
       "    <tr style=\"text-align: right;\">\n",
       "      <th></th>\n",
       "      <th>dealing_price</th>\n",
       "      <th>posting_price</th>\n",
       "      <th>watched</th>\n",
       "      <th>posting_minus_dealing</th>\n",
       "    </tr>\n",
       "  </thead>\n",
       "  <tbody>\n",
       "    <tr>\n",
       "      <th>0</th>\n",
       "      <td>130</td>\n",
       "      <td>138.0</td>\n",
       "      <td>88</td>\n",
       "      <td></td>\n",
       "    </tr>\n",
       "    <tr>\n",
       "      <th>1</th>\n",
       "      <td>95</td>\n",
       "      <td>96.0</td>\n",
       "      <td>101</td>\n",
       "      <td></td>\n",
       "    </tr>\n",
       "    <tr>\n",
       "      <th>2</th>\n",
       "      <td>83</td>\n",
       "      <td>95.0</td>\n",
       "      <td>108</td>\n",
       "      <td></td>\n",
       "    </tr>\n",
       "    <tr>\n",
       "      <th>3</th>\n",
       "      <td>106</td>\n",
       "      <td>115.0</td>\n",
       "      <td>86</td>\n",
       "      <td></td>\n",
       "    </tr>\n",
       "    <tr>\n",
       "      <th>4</th>\n",
       "      <td>87</td>\n",
       "      <td>150.0</td>\n",
       "      <td>92</td>\n",
       "      <td></td>\n",
       "    </tr>\n",
       "  </tbody>\n",
       "</table>\n",
       "</div>"
      ],
      "text/plain": [
       "   dealing_price  posting_price watched posting_minus_dealing\n",
       "0            130          138.0      88                      \n",
       "1             95           96.0     101                      \n",
       "2             83           95.0     108                      \n",
       "3            106          115.0      86                      \n",
       "4             87          150.0      92                      "
      ]
     },
     "execution_count": 102,
     "metadata": {},
     "output_type": "execute_result"
    }
   ],
   "source": [
    "\n",
    "# Changing the file read location to the location of the dataset\n",
    "\n",
    "df_b = df[['成交价格', '挂牌价格(万)', '浏览(次)']]\n",
    "\n",
    "# Taking only the selected attributes from the dataset\n",
    "df_b.columns = ['dealing_price', 'posting_price', 'watched']\n",
    "\n",
    "# Add an empty column\n",
    "df_b[\"posting_minus_dealing\"] = \"\"\n",
    "\n",
    "# Replace Null value\n",
    "df_b.watched.replace({'暂无数据':'1'}, regex=True)\n",
    "\n",
    "# See the dataframe\n",
    "df_b.head()"
   ]
  },
  {
   "cell_type": "code",
   "execution_count": 103,
   "metadata": {},
   "outputs": [],
   "source": [
    "# Fill in the last column with the subtraction result (posting_price - dealing_price)\n",
    "\n",
    "for i in range(70963):\n",
    "    df_b.posting_minus_dealing[i] = df_b.posting_price[i] - df_b.dealing_price[i]\n",
    "    \n",
    "for i in range(70963):\n",
    "    if df_b.watched[i] == '暂无数据':\n",
    "        df_b.watched[i] = 0"
   ]
  },
  {
   "cell_type": "code",
   "execution_count": 104,
   "metadata": {},
   "outputs": [
    {
     "name": "stdout",
     "output_type": "stream",
     "text": [
      "       dealing_price  posting_price watched posting_minus_dealing\n",
      "0                130          138.0      88                     8\n",
      "1                 95           96.0     101                     1\n",
      "2                 83           95.0     108                    12\n",
      "3                106          115.0      86                     9\n",
      "4                 87          150.0      92                    63\n",
      "...              ...            ...     ...                   ...\n",
      "70958            150          150.0    1713                     0\n",
      "70959            137          139.0    4014                     2\n",
      "70960            182          185.0    5400                     3\n",
      "70961            275          275.0       9                     0\n",
      "70962            150          170.0     674                    20\n",
      "\n",
      "[70963 rows x 4 columns]\n"
     ]
    }
   ],
   "source": [
    "\n",
    "print(df_b)"
   ]
  },
  {
   "cell_type": "code",
   "execution_count": 105,
   "metadata": {},
   "outputs": [
    {
     "name": "stdout",
     "output_type": "stream",
     "text": [
      "8.263299575705929e-07\n"
     ]
    }
   ],
   "source": [
    "# Train the model (linear regression)\n",
    "\n",
    "X = np.array(df_b['posting_minus_dealing']).reshape(-1, 1)\n",
    "y = np.array(df_b['watched']).reshape(-1, 1)\n",
    "  \n",
    "# Separating the data into independent and dependent variables\n",
    "# Converting each dataframe into a numpy array \n",
    "# since each dataframe contains only one column\n",
    "df_b.dropna(inplace = True)\n",
    "  \n",
    "# Dropping any rows with Nan values\n",
    "X_train, X_test, y_train, y_test = train_test_split(X, y, test_size = 0.25)\n",
    "  \n",
    "# Splitting the data into training and testing data\n",
    "regr = LinearRegression()\n",
    "  \n",
    "regr.fit(X_train, y_train)\n",
    "print(regr.score(X_test, y_test))"
   ]
  },
  {
   "cell_type": "code",
   "execution_count": 106,
   "metadata": {},
   "outputs": [],
   "source": [
    "### The R^2 score is not as expected.\n",
    "### So i decide to use logistic regression to build a classification model.\n",
    "### To check if "
   ]
  },
  {
   "cell_type": "code",
   "execution_count": 107,
   "metadata": {},
   "outputs": [],
   "source": [
    "# Turn 'posting_minus_dealing' to '0' and '1', \n",
    "# '0' means posting price minus dealing price less than(<) 0\n",
    "# '1' means posting price minus dealing price greater or equal to (>=) 0"
   ]
  },
  {
   "cell_type": "code",
   "execution_count": 108,
   "metadata": {},
   "outputs": [],
   "source": [
    "for i in range(70963):\n",
    "    if df_b.posting_minus_dealing[i] < 0:\n",
    "        df_b.posting_minus_dealing[i] = 0\n",
    "    else:\n",
    "        df_b.posting_minus_dealing[i] = 1"
   ]
  },
  {
   "cell_type": "code",
   "execution_count": 109,
   "metadata": {},
   "outputs": [
    {
     "name": "stdout",
     "output_type": "stream",
     "text": [
      "       dealing_price  posting_price watched posting_minus_dealing\n",
      "0                130          138.0      88                     1\n",
      "1                 95           96.0     101                     1\n",
      "2                 83           95.0     108                     1\n",
      "3                106          115.0      86                     1\n",
      "4                 87          150.0      92                     1\n",
      "...              ...            ...     ...                   ...\n",
      "70958            150          150.0    1713                     1\n",
      "70959            137          139.0    4014                     1\n",
      "70960            182          185.0    5400                     1\n",
      "70961            275          275.0       9                     1\n",
      "70962            150          170.0     674                     1\n",
      "\n",
      "[70963 rows x 4 columns]\n"
     ]
    }
   ],
   "source": [
    "print(df_b)"
   ]
  },
  {
   "cell_type": "code",
   "execution_count": 110,
   "metadata": {},
   "outputs": [
    {
     "data": {
      "text/plain": [
       "1    68639\n",
       "0     2324\n",
       "Name: posting_minus_dealing, dtype: int64"
      ]
     },
     "execution_count": 110,
     "metadata": {},
     "output_type": "execute_result"
    }
   ],
   "source": [
    "# Check the amount of '0's and '1's\n",
    "\n",
    "df_b['posting_minus_dealing'].value_counts()"
   ]
  },
  {
   "cell_type": "code",
   "execution_count": 131,
   "metadata": {},
   "outputs": [
    {
     "data": {
      "image/png": "[encoded data removed]",
      "text/plain": [
       "<Figure size 432x288 with 1 Axes>"
      ]
     },
     "metadata": {
      "needs_background": "light"
     },
     "output_type": "display_data"
    }
   ],
   "source": [
    "# visual the data\n",
    "\n",
    "sns.countplot(x='posting_minus_dealing', data = df_b, palette = 'hls')\n",
    "plt.show()\n"
   ]
  },
  {
   "cell_type": "code",
   "execution_count": 112,
   "metadata": {},
   "outputs": [],
   "source": [
    "### process the data, prepare for model building"
   ]
  },
  {
   "cell_type": "code",
   "execution_count": 113,
   "metadata": {},
   "outputs": [],
   "source": [
    "## For 'x' as the amount of views ('watched')"
   ]
  },
  {
   "cell_type": "code",
   "execution_count": 114,
   "metadata": {},
   "outputs": [],
   "source": [
    "# Isolate the column as an array. Change the value type from object to int.\n",
    "number_column_x = df_b.loc[:,'watched']\n",
    "x = number_column.values\n",
    "x=x.astype('int')"
   ]
  },
  {
   "cell_type": "code",
   "execution_count": 115,
   "metadata": {},
   "outputs": [
    {
     "data": {
      "text/plain": [
       "array([  88,  101,  108, ..., 5400,    9,  674])"
      ]
     },
     "execution_count": 115,
     "metadata": {},
     "output_type": "execute_result"
    }
   ],
   "source": [
    "x"
   ]
  },
  {
   "cell_type": "code",
   "execution_count": 116,
   "metadata": {},
   "outputs": [],
   "source": [
    "# Reshape the data\n",
    "\n",
    "x = numbers.reshape(70963,1)"
   ]
  },
  {
   "cell_type": "code",
   "execution_count": 117,
   "metadata": {},
   "outputs": [
    {
     "data": {
      "text/plain": [
       "array([['88'],\n",
       "       ['101'],\n",
       "       ['108'],\n",
       "       ...,\n",
       "       [5400],\n",
       "       [9],\n",
       "       [674]], dtype=object)"
      ]
     },
     "execution_count": 117,
     "metadata": {},
     "output_type": "execute_result"
    }
   ],
   "source": [
    "x"
   ]
  },
  {
   "cell_type": "code",
   "execution_count": 118,
   "metadata": {},
   "outputs": [],
   "source": [
    "## For 'y' as the price difference ('posting_minus_dealing')"
   ]
  },
  {
   "cell_type": "code",
   "execution_count": 119,
   "metadata": {},
   "outputs": [],
   "source": [
    "# Isolate the column as an array. Change the value type from object to int.\n",
    "\n",
    "number_column_y = df_b.loc[:,'posting_minus_dealing']\n",
    "y = number_column_y.values\n",
    "y=y.astype('int')"
   ]
  },
  {
   "cell_type": "code",
   "execution_count": 120,
   "metadata": {},
   "outputs": [
    {
     "data": {
      "text/plain": [
       "array([1, 1, 1, ..., 1, 1, 1])"
      ]
     },
     "execution_count": 120,
     "metadata": {},
     "output_type": "execute_result"
    }
   ],
   "source": [
    "y"
   ]
  },
  {
   "cell_type": "code",
   "execution_count": 121,
   "metadata": {},
   "outputs": [],
   "source": [
    "## Start to build the model"
   ]
  },
  {
   "cell_type": "code",
   "execution_count": 122,
   "metadata": {},
   "outputs": [],
   "source": [
    "# Define the classification model\n",
    "\n",
    "model = LogisticRegression(solver='liblinear', random_state=0)"
   ]
  },
  {
   "cell_type": "code",
   "execution_count": 123,
   "metadata": {},
   "outputs": [
    {
     "data": {
      "text/plain": [
       "LogisticRegression(random_state=0, solver='liblinear')"
      ]
     },
     "execution_count": 123,
     "metadata": {},
     "output_type": "execute_result"
    }
   ],
   "source": [
    "# .fit() takes x, y, and possibly observation-related weights.\n",
    "\n",
    "model.fit(x, y)"
   ]
  },
  {
   "cell_type": "code",
   "execution_count": 124,
   "metadata": {},
   "outputs": [
    {
     "data": {
      "text/plain": [
       "array([0, 1])"
      ]
     },
     "execution_count": 124,
     "metadata": {},
     "output_type": "execute_result"
    }
   ],
   "source": [
    "# Indicates binary classification\n",
    "\n",
    "model.classes_"
   ]
  },
  {
   "cell_type": "code",
   "execution_count": 125,
   "metadata": {},
   "outputs": [
    {
     "data": {
      "text/plain": [
       "array([3.17794608])"
      ]
     },
     "execution_count": 125,
     "metadata": {},
     "output_type": "execute_result"
    }
   ],
   "source": [
    "model.intercept_"
   ]
  },
  {
   "cell_type": "code",
   "execution_count": 126,
   "metadata": {},
   "outputs": [
    {
     "data": {
      "text/plain": [
       "array([[0.00020983]])"
      ]
     },
     "execution_count": 126,
     "metadata": {},
     "output_type": "execute_result"
    }
   ],
   "source": [
    "model.coef_"
   ]
  },
  {
   "cell_type": "code",
   "execution_count": 127,
   "metadata": {},
   "outputs": [],
   "source": [
    "## Evaluate the model"
   ]
  },
  {
   "cell_type": "code",
   "execution_count": 128,
   "metadata": {},
   "outputs": [
    {
     "data": {
      "text/plain": [
       "array([[0.039301  , 0.960699  ],\n",
       "       [0.03919814, 0.96080186],\n",
       "       [0.03914286, 0.96085714],\n",
       "       ...,\n",
       "       [0.01324208, 0.98675792],\n",
       "       [0.03993168, 0.96006832],\n",
       "       [0.03491259, 0.96508741]])"
      ]
     },
     "execution_count": 128,
     "metadata": {},
     "output_type": "execute_result"
    }
   ],
   "source": [
    "model.predict_proba(x)"
   ]
  },
  {
   "cell_type": "code",
   "execution_count": 129,
   "metadata": {},
   "outputs": [
    {
     "data": {
      "text/plain": [
       "array([1, 1, 1, ..., 1, 1, 1])"
      ]
     },
     "execution_count": 129,
     "metadata": {},
     "output_type": "execute_result"
    }
   ],
   "source": [
    "model.predict(x)"
   ]
  },
  {
   "cell_type": "code",
   "execution_count": 130,
   "metadata": {},
   "outputs": [
    {
     "data": {
      "text/plain": [
       "0.9672505390132886"
      ]
     },
     "execution_count": 130,
     "metadata": {},
     "output_type": "execute_result"
    }
   ],
   "source": [
    "model.score(x, y)"
   ]
  },
  {
   "cell_type": "code",
   "execution_count": null,
   "metadata": {},
   "outputs": [],
   "source": []
  }
 ],
 "metadata": {
  "kernelspec": {
   "display_name": "Python 3",
   "language": "python",
   "name": "python3"
  },
  "language_info": {
   "codemirror_mode": {
    "name": "ipython",
    "version": 3
   },
   "file_extension": ".py",
   "mimetype": "text/x-python",
   "name": "python",
   "nbconvert_exporter": "python",
   "pygments_lexer": "ipython3",
   "version": "3.8.8"
  },
  "toc": {
   "base_numbering": 1,
   "nav_menu": {},
   "number_sections": true,
   "sideBar": true,
   "skip_h1_title": false,
   "title_cell": "Table of Contents",
   "title_sidebar": "Contents",
   "toc_cell": false,
   "toc_position": {},
   "toc_section_display": true,
   "toc_window_display": false
  }
 },
 "nbformat": 4,
 "nbformat_minor": 4
}
